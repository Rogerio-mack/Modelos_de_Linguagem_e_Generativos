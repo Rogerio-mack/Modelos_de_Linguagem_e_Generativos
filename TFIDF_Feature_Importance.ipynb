{
  "nbformat": 4,
  "nbformat_minor": 0,
  "metadata": {
    "colab": {
      "provenance": [],
      "authorship_tag": "ABX9TyNmnumxwVxkv19c2Qmv0Soe",
      "include_colab_link": true
    },
    "kernelspec": {
      "name": "python3",
      "display_name": "Python 3"
    },
    "language_info": {
      "name": "python"
    }
  },
  "cells": [
    {
      "cell_type": "markdown",
      "metadata": {
        "id": "view-in-github",
        "colab_type": "text"
      },
      "source": [
        "<a href=\"https://colab.research.google.com/github/Rogerio-mack/Modelos_de_Linguagem_e_Generativos/blob/main/TFIDF_Feature_Importance.ipynb\" target=\"_parent\"><img src=\"https://colab.research.google.com/assets/colab-badge.svg\" alt=\"Open In Colab\"/></a>"
      ]
    },
    {
      "cell_type": "markdown",
      "source": [
        "# **TF-IDF, `TfidfVectorizer`e Feature Importance**"
      ],
      "metadata": {
        "id": "bst6AXuURE4R"
      }
    },
    {
      "cell_type": "markdown",
      "source": [
        "# Caso: **News Groups**"
      ],
      "metadata": {
        "id": "2l1rPirMTbyA"
      }
    },
    {
      "cell_type": "markdown",
      "source": [
        "# Dados"
      ],
      "metadata": {
        "id": "uXkZHOXBTlU2"
      }
    },
    {
      "cell_type": "code",
      "execution_count": 13,
      "metadata": {
        "id": "2AhmEhzPW7-a"
      },
      "outputs": [],
      "source": [
        "from time import time\n",
        "\n",
        "from sklearn.datasets import fetch_20newsgroups\n",
        "from sklearn.feature_extraction.text import TfidfVectorizer\n",
        "\n",
        "categories = [\n",
        "    \"alt.atheism\",\n",
        "    \"talk.religion.misc\",\n",
        "    \"comp.graphics\",\n",
        "    \"sci.space\",\n",
        "]\n",
        "\n",
        "\n",
        "def size_mb(docs):\n",
        "    return sum(len(s.encode(\"utf-8\")) for s in docs) / 1e6\n",
        "\n",
        "\n",
        "def load_dataset(verbose=False, remove=()):\n",
        "    \"\"\"Load and vectorize the 20 newsgroups dataset.\"\"\"\n",
        "\n",
        "    data_train = fetch_20newsgroups(\n",
        "        subset=\"train\",\n",
        "        categories=categories,\n",
        "        shuffle=True,\n",
        "        random_state=42,\n",
        "        remove=remove,\n",
        "    )\n",
        "\n",
        "    data_test = fetch_20newsgroups(\n",
        "        subset=\"test\",\n",
        "        categories=categories,\n",
        "        shuffle=True,\n",
        "        random_state=42,\n",
        "        remove=remove,\n",
        "    )\n",
        "\n",
        "    # order of labels in `target_names` can be different from `categories`\n",
        "    target_names = data_train.target_names\n",
        "\n",
        "    # split target in a training set and a test set\n",
        "    y_train, y_test = data_train.target, data_test.target\n",
        "\n",
        "    # Extracting features from the training data using a sparse vectorizer\n",
        "    t0 = time()\n",
        "    vectorizer = TfidfVectorizer(\n",
        "        sublinear_tf=True, max_df=0.5, min_df=5, stop_words=\"english\"\n",
        "    )\n",
        "    X_train = vectorizer.fit_transform(data_train.data)\n",
        "    duration_train = time() - t0\n",
        "\n",
        "    # Extracting features from the test data using the same vectorizer\n",
        "    t0 = time()\n",
        "    X_test = vectorizer.transform(data_test.data)\n",
        "    duration_test = time() - t0\n",
        "\n",
        "    feature_names = vectorizer.get_feature_names_out()\n",
        "\n",
        "    if verbose:\n",
        "        # compute size of loaded data\n",
        "        data_train_size_mb = size_mb(data_train.data)\n",
        "        data_test_size_mb = size_mb(data_test.data)\n",
        "\n",
        "        print(\n",
        "            f\"{len(data_train.data)} documents - \"\n",
        "            f\"{data_train_size_mb:.2f}MB (training set)\"\n",
        "        )\n",
        "        print(f\"{len(data_test.data)} documents - {data_test_size_mb:.2f}MB (test set)\")\n",
        "        print(f\"{len(target_names)} categories\")\n",
        "        print(\n",
        "            f\"vectorize training done in {duration_train:.3f}s \"\n",
        "            f\"at {data_train_size_mb / duration_train:.3f}MB/s\"\n",
        "        )\n",
        "        print(f\"n_samples: {X_train.shape[0]}, n_features: {X_train.shape[1]}\")\n",
        "        print(\n",
        "            f\"vectorize testing done in {duration_test:.3f}s \"\n",
        "            f\"at {data_test_size_mb / duration_test:.3f}MB/s\"\n",
        "        )\n",
        "        print(f\"n_samples: {X_test.shape[0]}, n_features: {X_test.shape[1]}\")\n",
        "\n",
        "    return X_train, X_test, y_train, y_test, feature_names, target_names"
      ]
    },
    {
      "cell_type": "code",
      "source": [
        "X_train, X_test, y_train, y_test, feature_names, target_names = load_dataset(\n",
        "    verbose=True, remove=(\"headers\", \"footers\", \"quotes\") # remoção de metadados... que isso pode causar?\n",
        ")"
      ],
      "metadata": {
        "colab": {
          "base_uri": "https://localhost:8080/"
        },
        "id": "Sz8udJfjaAHV",
        "outputId": "23f706df-dfa4-4342-bea2-a47b036f16aa"
      },
      "execution_count": 14,
      "outputs": [
        {
          "output_type": "stream",
          "name": "stdout",
          "text": [
            "2034 documents - 2.43MB (training set)\n",
            "1353 documents - 1.80MB (test set)\n",
            "4 categories\n",
            "vectorize training done in 0.654s at 3.710MB/s\n",
            "n_samples: 2034, n_features: 5316\n",
            "vectorize testing done in 0.378s at 4.763MB/s\n",
            "n_samples: 1353, n_features: 5316\n"
          ]
        }
      ]
    },
    {
      "cell_type": "code",
      "source": [
        "data_train = fetch_20newsgroups(\n",
        "        subset=\"train\",\n",
        "        categories=categories,\n",
        "        shuffle=True,\n",
        "        random_state=42\n",
        "    )\n",
        "\n",
        "print(data_train.data[0])\n",
        "print(f'Classe target: {target_names[data_train.target[0]]:s}')"
      ],
      "metadata": {
        "colab": {
          "base_uri": "https://localhost:8080/"
        },
        "id": "tafB-tatShOW",
        "outputId": "6db8be82-6a33-4550-e14e-1a101056b905"
      },
      "execution_count": 15,
      "outputs": [
        {
          "output_type": "stream",
          "name": "stdout",
          "text": [
            "From: rych@festival.ed.ac.uk (R Hawkes)\n",
            "Subject: 3DS: Where did all the texture rules go?\n",
            "Lines: 21\n",
            "\n",
            "Hi,\n",
            "\n",
            "I've noticed that if you only save a model (with all your mapping planes\n",
            "positioned carefully) to a .3DS file that when you reload it after restarting\n",
            "3DS, they are given a default position and orientation.  But if you save\n",
            "to a .PRJ file their positions/orientation are preserved.  Does anyone\n",
            "know why this information is not stored in the .3DS file?  Nothing is\n",
            "explicitly said in the manual about saving texture rules in the .PRJ file. \n",
            "I'd like to be able to read the texture rule information, does anyone have \n",
            "the format for the .PRJ file?\n",
            "\n",
            "Is the .CEL file format available from somewhere?\n",
            "\n",
            "Rych\n",
            "\n",
            "======================================================================\n",
            "Rycharde Hawkes\t\t\t\temail: rych@festival.ed.ac.uk\n",
            "Virtual Environment Laboratory\n",
            "Dept. of Psychology\t\t\tTel  : +44 31 650 3426\n",
            "Univ. of Edinburgh\t\t\tFax  : +44 31 667 0150\n",
            "======================================================================\n",
            "\n",
            "Classe target: comp.graphics\n"
          ]
        }
      ]
    },
    {
      "cell_type": "code",
      "source": [
        "import pandas as pd\n",
        "msg = pd.DataFrame({'content':[], 'subject':[]})\n",
        "\n",
        "for idoc in range(len(data_train.data)):\n",
        "  doc = data_train.data[idoc][:]\n",
        "\n",
        "  a = 0\n",
        "  for i in range(5):\n",
        "    a = doc.find('\\n',a+1)\n",
        "\n",
        "  msg.loc[idoc] = [doc[a+1:].replace('\\n',' '), target_names[data_train.target[idoc]]]\n",
        "\n",
        "with pd.option_context('display.max_colwidth', 100):\n",
        "    display(msg)"
      ],
      "metadata": {
        "colab": {
          "base_uri": "https://localhost:8080/",
          "height": 423
        },
        "id": "Z8nxMuAw53-k",
        "outputId": "ee713f8b-9fd1-4f5a-c059-67dc6062dc93"
      },
      "execution_count": 16,
      "outputs": [
        {
          "output_type": "display_data",
          "data": {
            "text/plain": [
              "                                                                                                  content  \\\n",
              "0      I've noticed that if you only save a model (with all your mapping planes positioned carefully) ...   \n",
              "1     In article <20APR199301460499@utarlg.uta.edu> b645zaw@utarlg.uta.edu (stephen) writes:  >Seems t...   \n",
              "2     In a message of <Apr 19 04:55>, jgarland@kean.ucs.mun.ca writes:   >In article <1993Apr19.020359...   \n",
              "3       I have a request for those who would like to see Charley Wingate respond to the \"Charley Chall...   \n",
              "4     NNTP-Posting-Host: access.digex.net   AW&ST  had a brief blurb on a Manned Lunar Exploration con...   \n",
              "...                                                                                                   ...   \n",
              "2029     Did the Russian spacecraft(s) on the ill-fated Phobos mission a few years ago send back any i...   \n",
              "2030  NNTP-Posting-Host: sal-sun121.usc.edu   In article <1993Apr19.130503.1@aurora.alaska.edu>, nsmca...   \n",
              "2031  NNTP-Posting-Host: localhost.mcs.com  I am looking for software to run on my brand new Targa+ 16...   \n",
              "2032    In article <1993Apr13.173100.29861@ultb.isc.rit.edu> snm6394@ultb.isc.rit.edu (S.N. Mozumder )...   \n",
              "2033  In article <1qflpk$re1@usenet.INS.CWRU.Edu>, mbc@po.CWRU.Edu (Michael B. Comet) wrote: >  >  > I...   \n",
              "\n",
              "                 subject  \n",
              "0          comp.graphics  \n",
              "1     talk.religion.misc  \n",
              "2              sci.space  \n",
              "3            alt.atheism  \n",
              "4              sci.space  \n",
              "...                  ...  \n",
              "2029           sci.space  \n",
              "2030           sci.space  \n",
              "2031       comp.graphics  \n",
              "2032         alt.atheism  \n",
              "2033       comp.graphics  \n",
              "\n",
              "[2034 rows x 2 columns]"
            ],
            "text/html": [
              "\n",
              "  <div id=\"df-dcbad0f9-945b-4456-8d24-13293d1846c2\" class=\"colab-df-container\">\n",
              "    <div>\n",
              "<style scoped>\n",
              "    .dataframe tbody tr th:only-of-type {\n",
              "        vertical-align: middle;\n",
              "    }\n",
              "\n",
              "    .dataframe tbody tr th {\n",
              "        vertical-align: top;\n",
              "    }\n",
              "\n",
              "    .dataframe thead th {\n",
              "        text-align: right;\n",
              "    }\n",
              "</style>\n",
              "<table border=\"1\" class=\"dataframe\">\n",
              "  <thead>\n",
              "    <tr style=\"text-align: right;\">\n",
              "      <th></th>\n",
              "      <th>content</th>\n",
              "      <th>subject</th>\n",
              "    </tr>\n",
              "  </thead>\n",
              "  <tbody>\n",
              "    <tr>\n",
              "      <th>0</th>\n",
              "      <td>I've noticed that if you only save a model (with all your mapping planes positioned carefully) ...</td>\n",
              "      <td>comp.graphics</td>\n",
              "    </tr>\n",
              "    <tr>\n",
              "      <th>1</th>\n",
              "      <td>In article &lt;20APR199301460499@utarlg.uta.edu&gt; b645zaw@utarlg.uta.edu (stephen) writes:  &gt;Seems t...</td>\n",
              "      <td>talk.religion.misc</td>\n",
              "    </tr>\n",
              "    <tr>\n",
              "      <th>2</th>\n",
              "      <td>In a message of &lt;Apr 19 04:55&gt;, jgarland@kean.ucs.mun.ca writes:   &gt;In article &lt;1993Apr19.020359...</td>\n",
              "      <td>sci.space</td>\n",
              "    </tr>\n",
              "    <tr>\n",
              "      <th>3</th>\n",
              "      <td>I have a request for those who would like to see Charley Wingate respond to the \"Charley Chall...</td>\n",
              "      <td>alt.atheism</td>\n",
              "    </tr>\n",
              "    <tr>\n",
              "      <th>4</th>\n",
              "      <td>NNTP-Posting-Host: access.digex.net   AW&amp;ST  had a brief blurb on a Manned Lunar Exploration con...</td>\n",
              "      <td>sci.space</td>\n",
              "    </tr>\n",
              "    <tr>\n",
              "      <th>...</th>\n",
              "      <td>...</td>\n",
              "      <td>...</td>\n",
              "    </tr>\n",
              "    <tr>\n",
              "      <th>2029</th>\n",
              "      <td>Did the Russian spacecraft(s) on the ill-fated Phobos mission a few years ago send back any i...</td>\n",
              "      <td>sci.space</td>\n",
              "    </tr>\n",
              "    <tr>\n",
              "      <th>2030</th>\n",
              "      <td>NNTP-Posting-Host: sal-sun121.usc.edu   In article &lt;1993Apr19.130503.1@aurora.alaska.edu&gt;, nsmca...</td>\n",
              "      <td>sci.space</td>\n",
              "    </tr>\n",
              "    <tr>\n",
              "      <th>2031</th>\n",
              "      <td>NNTP-Posting-Host: localhost.mcs.com  I am looking for software to run on my brand new Targa+ 16...</td>\n",
              "      <td>comp.graphics</td>\n",
              "    </tr>\n",
              "    <tr>\n",
              "      <th>2032</th>\n",
              "      <td>In article &lt;1993Apr13.173100.29861@ultb.isc.rit.edu&gt; snm6394@ultb.isc.rit.edu (S.N. Mozumder )...</td>\n",
              "      <td>alt.atheism</td>\n",
              "    </tr>\n",
              "    <tr>\n",
              "      <th>2033</th>\n",
              "      <td>In article &lt;1qflpk$re1@usenet.INS.CWRU.Edu&gt;, mbc@po.CWRU.Edu (Michael B. Comet) wrote: &gt;  &gt;  &gt; I...</td>\n",
              "      <td>comp.graphics</td>\n",
              "    </tr>\n",
              "  </tbody>\n",
              "</table>\n",
              "<p>2034 rows × 2 columns</p>\n",
              "</div>\n",
              "    <div class=\"colab-df-buttons\">\n",
              "\n",
              "  <div class=\"colab-df-container\">\n",
              "    <button class=\"colab-df-convert\" onclick=\"convertToInteractive('df-dcbad0f9-945b-4456-8d24-13293d1846c2')\"\n",
              "            title=\"Convert this dataframe to an interactive table.\"\n",
              "            style=\"display:none;\">\n",
              "\n",
              "  <svg xmlns=\"http://www.w3.org/2000/svg\" height=\"24px\" viewBox=\"0 -960 960 960\">\n",
              "    <path d=\"M120-120v-720h720v720H120Zm60-500h600v-160H180v160Zm220 220h160v-160H400v160Zm0 220h160v-160H400v160ZM180-400h160v-160H180v160Zm440 0h160v-160H620v160ZM180-180h160v-160H180v160Zm440 0h160v-160H620v160Z\"/>\n",
              "  </svg>\n",
              "    </button>\n",
              "\n",
              "  <style>\n",
              "    .colab-df-container {\n",
              "      display:flex;\n",
              "      gap: 12px;\n",
              "    }\n",
              "\n",
              "    .colab-df-convert {\n",
              "      background-color: #E8F0FE;\n",
              "      border: none;\n",
              "      border-radius: 50%;\n",
              "      cursor: pointer;\n",
              "      display: none;\n",
              "      fill: #1967D2;\n",
              "      height: 32px;\n",
              "      padding: 0 0 0 0;\n",
              "      width: 32px;\n",
              "    }\n",
              "\n",
              "    .colab-df-convert:hover {\n",
              "      background-color: #E2EBFA;\n",
              "      box-shadow: 0px 1px 2px rgba(60, 64, 67, 0.3), 0px 1px 3px 1px rgba(60, 64, 67, 0.15);\n",
              "      fill: #174EA6;\n",
              "    }\n",
              "\n",
              "    .colab-df-buttons div {\n",
              "      margin-bottom: 4px;\n",
              "    }\n",
              "\n",
              "    [theme=dark] .colab-df-convert {\n",
              "      background-color: #3B4455;\n",
              "      fill: #D2E3FC;\n",
              "    }\n",
              "\n",
              "    [theme=dark] .colab-df-convert:hover {\n",
              "      background-color: #434B5C;\n",
              "      box-shadow: 0px 1px 3px 1px rgba(0, 0, 0, 0.15);\n",
              "      filter: drop-shadow(0px 1px 2px rgba(0, 0, 0, 0.3));\n",
              "      fill: #FFFFFF;\n",
              "    }\n",
              "  </style>\n",
              "\n",
              "    <script>\n",
              "      const buttonEl =\n",
              "        document.querySelector('#df-dcbad0f9-945b-4456-8d24-13293d1846c2 button.colab-df-convert');\n",
              "      buttonEl.style.display =\n",
              "        google.colab.kernel.accessAllowed ? 'block' : 'none';\n",
              "\n",
              "      async function convertToInteractive(key) {\n",
              "        const element = document.querySelector('#df-dcbad0f9-945b-4456-8d24-13293d1846c2');\n",
              "        const dataTable =\n",
              "          await google.colab.kernel.invokeFunction('convertToInteractive',\n",
              "                                                    [key], {});\n",
              "        if (!dataTable) return;\n",
              "\n",
              "        const docLinkHtml = 'Like what you see? Visit the ' +\n",
              "          '<a target=\"_blank\" href=https://colab.research.google.com/notebooks/data_table.ipynb>data table notebook</a>'\n",
              "          + ' to learn more about interactive tables.';\n",
              "        element.innerHTML = '';\n",
              "        dataTable['output_type'] = 'display_data';\n",
              "        await google.colab.output.renderOutput(dataTable, element);\n",
              "        const docLink = document.createElement('div');\n",
              "        docLink.innerHTML = docLinkHtml;\n",
              "        element.appendChild(docLink);\n",
              "      }\n",
              "    </script>\n",
              "  </div>\n",
              "\n",
              "\n",
              "    <div id=\"df-21d854d7-24f3-42c4-9ac2-baf2e1d44125\">\n",
              "      <button class=\"colab-df-quickchart\" onclick=\"quickchart('df-21d854d7-24f3-42c4-9ac2-baf2e1d44125')\"\n",
              "                title=\"Suggest charts\"\n",
              "                style=\"display:none;\">\n",
              "\n",
              "<svg xmlns=\"http://www.w3.org/2000/svg\" height=\"24px\"viewBox=\"0 0 24 24\"\n",
              "     width=\"24px\">\n",
              "    <g>\n",
              "        <path d=\"M19 3H5c-1.1 0-2 .9-2 2v14c0 1.1.9 2 2 2h14c1.1 0 2-.9 2-2V5c0-1.1-.9-2-2-2zM9 17H7v-7h2v7zm4 0h-2V7h2v10zm4 0h-2v-4h2v4z\"/>\n",
              "    </g>\n",
              "</svg>\n",
              "      </button>\n",
              "\n",
              "<style>\n",
              "  .colab-df-quickchart {\n",
              "      --bg-color: #E8F0FE;\n",
              "      --fill-color: #1967D2;\n",
              "      --hover-bg-color: #E2EBFA;\n",
              "      --hover-fill-color: #174EA6;\n",
              "      --disabled-fill-color: #AAA;\n",
              "      --disabled-bg-color: #DDD;\n",
              "  }\n",
              "\n",
              "  [theme=dark] .colab-df-quickchart {\n",
              "      --bg-color: #3B4455;\n",
              "      --fill-color: #D2E3FC;\n",
              "      --hover-bg-color: #434B5C;\n",
              "      --hover-fill-color: #FFFFFF;\n",
              "      --disabled-bg-color: #3B4455;\n",
              "      --disabled-fill-color: #666;\n",
              "  }\n",
              "\n",
              "  .colab-df-quickchart {\n",
              "    background-color: var(--bg-color);\n",
              "    border: none;\n",
              "    border-radius: 50%;\n",
              "    cursor: pointer;\n",
              "    display: none;\n",
              "    fill: var(--fill-color);\n",
              "    height: 32px;\n",
              "    padding: 0;\n",
              "    width: 32px;\n",
              "  }\n",
              "\n",
              "  .colab-df-quickchart:hover {\n",
              "    background-color: var(--hover-bg-color);\n",
              "    box-shadow: 0 1px 2px rgba(60, 64, 67, 0.3), 0 1px 3px 1px rgba(60, 64, 67, 0.15);\n",
              "    fill: var(--button-hover-fill-color);\n",
              "  }\n",
              "\n",
              "  .colab-df-quickchart-complete:disabled,\n",
              "  .colab-df-quickchart-complete:disabled:hover {\n",
              "    background-color: var(--disabled-bg-color);\n",
              "    fill: var(--disabled-fill-color);\n",
              "    box-shadow: none;\n",
              "  }\n",
              "\n",
              "  .colab-df-spinner {\n",
              "    border: 2px solid var(--fill-color);\n",
              "    border-color: transparent;\n",
              "    border-bottom-color: var(--fill-color);\n",
              "    animation:\n",
              "      spin 1s steps(1) infinite;\n",
              "  }\n",
              "\n",
              "  @keyframes spin {\n",
              "    0% {\n",
              "      border-color: transparent;\n",
              "      border-bottom-color: var(--fill-color);\n",
              "      border-left-color: var(--fill-color);\n",
              "    }\n",
              "    20% {\n",
              "      border-color: transparent;\n",
              "      border-left-color: var(--fill-color);\n",
              "      border-top-color: var(--fill-color);\n",
              "    }\n",
              "    30% {\n",
              "      border-color: transparent;\n",
              "      border-left-color: var(--fill-color);\n",
              "      border-top-color: var(--fill-color);\n",
              "      border-right-color: var(--fill-color);\n",
              "    }\n",
              "    40% {\n",
              "      border-color: transparent;\n",
              "      border-right-color: var(--fill-color);\n",
              "      border-top-color: var(--fill-color);\n",
              "    }\n",
              "    60% {\n",
              "      border-color: transparent;\n",
              "      border-right-color: var(--fill-color);\n",
              "    }\n",
              "    80% {\n",
              "      border-color: transparent;\n",
              "      border-right-color: var(--fill-color);\n",
              "      border-bottom-color: var(--fill-color);\n",
              "    }\n",
              "    90% {\n",
              "      border-color: transparent;\n",
              "      border-bottom-color: var(--fill-color);\n",
              "    }\n",
              "  }\n",
              "</style>\n",
              "\n",
              "      <script>\n",
              "        async function quickchart(key) {\n",
              "          const quickchartButtonEl =\n",
              "            document.querySelector('#' + key + ' button');\n",
              "          quickchartButtonEl.disabled = true;  // To prevent multiple clicks.\n",
              "          quickchartButtonEl.classList.add('colab-df-spinner');\n",
              "          try {\n",
              "            const charts = await google.colab.kernel.invokeFunction(\n",
              "                'suggestCharts', [key], {});\n",
              "          } catch (error) {\n",
              "            console.error('Error during call to suggestCharts:', error);\n",
              "          }\n",
              "          quickchartButtonEl.classList.remove('colab-df-spinner');\n",
              "          quickchartButtonEl.classList.add('colab-df-quickchart-complete');\n",
              "        }\n",
              "        (() => {\n",
              "          let quickchartButtonEl =\n",
              "            document.querySelector('#df-21d854d7-24f3-42c4-9ac2-baf2e1d44125 button');\n",
              "          quickchartButtonEl.style.display =\n",
              "            google.colab.kernel.accessAllowed ? 'block' : 'none';\n",
              "        })();\n",
              "      </script>\n",
              "    </div>\n",
              "\n",
              "  <div id=\"id_3d8f4807-d26d-46d2-a031-0271c9d31ede\">\n",
              "    <style>\n",
              "      .colab-df-generate {\n",
              "        background-color: #E8F0FE;\n",
              "        border: none;\n",
              "        border-radius: 50%;\n",
              "        cursor: pointer;\n",
              "        display: none;\n",
              "        fill: #1967D2;\n",
              "        height: 32px;\n",
              "        padding: 0 0 0 0;\n",
              "        width: 32px;\n",
              "      }\n",
              "\n",
              "      .colab-df-generate:hover {\n",
              "        background-color: #E2EBFA;\n",
              "        box-shadow: 0px 1px 2px rgba(60, 64, 67, 0.3), 0px 1px 3px 1px rgba(60, 64, 67, 0.15);\n",
              "        fill: #174EA6;\n",
              "      }\n",
              "\n",
              "      [theme=dark] .colab-df-generate {\n",
              "        background-color: #3B4455;\n",
              "        fill: #D2E3FC;\n",
              "      }\n",
              "\n",
              "      [theme=dark] .colab-df-generate:hover {\n",
              "        background-color: #434B5C;\n",
              "        box-shadow: 0px 1px 3px 1px rgba(0, 0, 0, 0.15);\n",
              "        filter: drop-shadow(0px 1px 2px rgba(0, 0, 0, 0.3));\n",
              "        fill: #FFFFFF;\n",
              "      }\n",
              "    </style>\n",
              "    <button class=\"colab-df-generate\" onclick=\"generateWithVariable('msg')\"\n",
              "            title=\"Generate code using this dataframe.\"\n",
              "            style=\"display:none;\">\n",
              "\n",
              "  <svg xmlns=\"http://www.w3.org/2000/svg\" height=\"24px\"viewBox=\"0 0 24 24\"\n",
              "       width=\"24px\">\n",
              "    <path d=\"M7,19H8.4L18.45,9,17,7.55,7,17.6ZM5,21V16.75L18.45,3.32a2,2,0,0,1,2.83,0l1.4,1.43a1.91,1.91,0,0,1,.58,1.4,1.91,1.91,0,0,1-.58,1.4L9.25,21ZM18.45,9,17,7.55Zm-12,3A5.31,5.31,0,0,0,4.9,8.1,5.31,5.31,0,0,0,1,6.5,5.31,5.31,0,0,0,4.9,4.9,5.31,5.31,0,0,0,6.5,1,5.31,5.31,0,0,0,8.1,4.9,5.31,5.31,0,0,0,12,6.5,5.46,5.46,0,0,0,6.5,12Z\"/>\n",
              "  </svg>\n",
              "    </button>\n",
              "    <script>\n",
              "      (() => {\n",
              "      const buttonEl =\n",
              "        document.querySelector('#id_3d8f4807-d26d-46d2-a031-0271c9d31ede button.colab-df-generate');\n",
              "      buttonEl.style.display =\n",
              "        google.colab.kernel.accessAllowed ? 'block' : 'none';\n",
              "\n",
              "      buttonEl.onclick = () => {\n",
              "        google.colab.notebook.generateWithVariable('msg');\n",
              "      }\n",
              "      })();\n",
              "    </script>\n",
              "  </div>\n",
              "\n",
              "    </div>\n",
              "  </div>\n"
            ],
            "application/vnd.google.colaboratory.intrinsic+json": {
              "type": "dataframe",
              "variable_name": "msg",
              "summary": "{\n  \"name\": \"msg\",\n  \"rows\": 2034,\n  \"fields\": [\n    {\n      \"column\": \"content\",\n      \"properties\": {\n        \"dtype\": \"string\",\n        \"num_unique_values\": 2033,\n        \"samples\": [\n          \"  (Frank DeCenso) > But how? It's evident from the texts in Ezek 26-28 that God isn't concerned > about buildings or structures - God is concerned about people.  The people and > leadership (Ezek 28) never did return as a city.  Others may have come later > and built a city, but the people and leadership that God prophesied about in > Ezek 26-28 were never rebuilt as a city of people and leaders.    How incredibly fucking stupid.  Of *course* the text is referring to the city itself (buildings, bricks, mortar, etc.)  Otherwise it makes no sense to refer to the future of Tyre as being reduced to nothing but a _place_ to spread  fishing nets.  Is there any twisting of text or semantic game that you *won't* do to preserve  your faith from admission of error, DeCenso? \",\n          \"Lines: 162  C.Wainwright (eczcaw@mips.nott.ac.uk) wrote: : I : |> Jim, : |>  : |> I always thought that homophobe was only a word used at Act UP : |> rallies, I didn't beleive real people used it. Let's see if we agree : |> on the term's definition. A homophobe is one who actively and : |> militantly attacks homosexuals because he is actually a latent : |> homosexual who uses his hostility to conceal his true orientation. : |> Since everyone who disapproves of or condemns homosexuality is a : |> homophobe (your implication is clear), it must necessarily follow that : |> all men are latent homosexuals or bisexual at the very least. : |>  :  : Crap crap crap crap crap.  A definition of any type of 'phobe comes from : phobia = an irrational fear of.  Hence a homophobe (not only in ACT UP meetings, : the word is apparently in general use now.  Or perhaps it isn't in the bible?   : Wouldst thou prefer if I were to communicate with thou in bilespeak?) :  : Does an arachnophobe have an irrational fear of being a spider?  Does an : agoraphobe have an irrational fear of being a wide open space?  Do you : understand English? :  : Obviously someone who has  phobia will react to it.  They will do their best : to avoid it and if that is not possible they will either strike out or : run away.  Or do gaybashings occur because of natural processes?  People : who definately have homophobia will either run away from gay people or : cause them (or themselves) violence. :   Isn't that what I said ... What are you taking issue with here, your remarks are merely parenthetical to mine and add nothing useful.  : [...] :  : |> It would seem odd if homosexuality had any evolutionary function : |> (other than limiting population growth) since evolution only occurs : |> when the members of one generation pass along their traits to : |> subsequent generations. Homosexuality is an evolutionary deadend. If I : |> take your usage of the term, homophobe, in the sense you seem to : |> intend, then all men are really homosexual and evolution of our : |> species at least, is going nowhere. : |>  :  : So *every* time a man has sex with a woman they intend to produce children? : Hmm...no wonder the world is overpopulated.  Obviously you keep to the : Monty Python song:  \\\"Every sperm is sacred\\\".  And if, as *you* say, it has : a purpose as a means to limit population growth then it is, by your own  : arguement, natural.  Consider the context, I'm talking about an evolutionary function. One of the most basic requirements of evolution is that members of a species procreate, those who don't have no purpose in that context.  :  : |> Another point is that if the offspring of each generation is to : |> survive, the participation of both parents is necessary - a family must : |> exist, since homosexuals do not reproduce, they cannot constitute a : |> family. Since the majority of humankind is part of a family, : |> homosexuality is an evolutionary abberation, contrary to nature if you : |> will. : |>  :  : Well if that is true, by your own arguements homosexuals would have  : vanished *years* ago due to non-procreation.  Also the parent from single : parent families should put the babies out in the cold now, cos they must, : by your arguement, die.  By your argument, homosexuality is genetically determined. As to your second point, you prove again that you have no idea what context means. I am talking about evolution, the preservation of the species, the fundamental premise of the whole process. :  : |> But it gets worse. Since the overwhelming majority of people actually : |> -prefer- a heterosexual relationship, homosexuality is a social : |> abberation as well. The homosexual eschews the biological imperative : |> to reproduce and then the social imperative to form and participate in : |> the most fundamental social element, the family. But wait, there's : |> more. : |>  :  : Read the above.  I expect you to have at least ten children by now, with : the family growing.  These days sex is less to do with procreation (admittedly : without it there would be no-one) but more to do with pleasure.  In pre-pill : and pre-condom days, if you had sex there was the chance of producing children. : These days is just ain't true!  People can decide whether or not to have  : children and when.  Soon they will be able to choose it's sex &c (but that's  : another arguement...) so it's more of a \\\"lifestyle\\\" decision.  Again by : your arguement, since homosexuals can not (or choose not) to reproduce they must : be akin to people who decide to have sex but not children.  Both are  : as \\\"unnatural\\\" as each other.  Yet another non-sequitur. Sex is an evolutionary function that exists for procreation, that it is also recreation is incidental. That homosexuals don't procreate means that sex is -only- recreation and nothing more; they serve no -evolutionary- purpose.  :  : |> Since homosexuals have come out the closet and have convinced some : |> policy makers that they have civil rights, they are now claiming that : |> their sexuality is a preference, a life-style, an orientation, a : |> choice that should be protected by law. Now if homosexuality is a mere : |> choice and if it is both contrary to nature and anti-social, then it : |> is a perverse choice; they have even less credibility than before they : |> became prominent.  : |>  :  : People are people are people.  Who are you to tell anyone else how to live : their life?  Are you god(tm)?  If so, fancy a date?  Here's pretty obvious dodge, do you really think you've said anything or do you just feel obligated to respond to every statement? I am not telling anyone anything, I am demonstrating that there are arguments against the practice of homosexuality (providing it's a merely an alternate lifestlye) that are not homophobic, that one can reasonably call it perverse in a context even a atheist can understand. I realize of course that this comes dangerously close to establishing  a value, and that atheists are compelled to object on that basis, but if you are to be consistent, you have no case in this regard. :  : |> To characterize any opposition to homosexuality as homophobic is to : |> ignore some very compelling arguments against the legitimization of : |> the homosexual \\\"life-style\\\". But since the charge is only intended to : |> intimidate, it's really just demogoguery and not to be taken : |> seriously. Fact is, Jim, there are far more persuasive arguments for : |> suppressing homosexuality than those given, but consider this a start. : |>  :  : Again crap.  All your arguments are based on outdated ideals.  Likewise the : bible.  Would any honest Christian condemn the ten generations spawned by : a \\\"bastard\\\" to eternal damnation?  Or someone who crushes his penis (either : accidently or not..!).  Both are in Deuteronomy.  I'm sure your comment pertains to something, but you've disguised it so well I can't see what. Where did I mention ideals, out-dated or otherwise? Your arguments are very reactionary; do you have anything at all to contribute?  :  : |> As to why homosexuals should be excluded from participation in : |> scouting, the reasons are the same as those used to restrict them from : |> teaching; by their own logic, homosexuals are deviates, social and : |> biological. Since any adult is a role model for a child, it is : |> incumbent on the parent to ensure that the child be isolated from : |> those who would do the child harm. In this case, harm means primarily : |> social, though that could be extended easily enough. : |>  : |>  :  : You show me *anyone* who has sex in a way that everyone would describe as : normal, and will take of my hat (Puma baseball cap) to you.  \\\"One man's meat : is another man's poison\\\"! :   What has this got to do with anything? Would you pick a single point that you find offensive and explain your objections, I would really like to believe that you can discuss this issue intelligibly.  Bill   \",\n          \"Organization: School of Computer Science, Carnegie Mellon University Distribution: sci Lines: 50  In article <C5sy4s.4x2.1@cs.cmu.edu> 18084TM@msu.edu (Tom) writes:     Nick Haines sez;    >(given that I've heard the Shuttle software rated as Level 5 in    >maturity, I strongly doubt that this [having lots of bugs] is the case).     Level 5?  Out of how many?  What are the different levels?  I've never    heard of this rating system.  Anyone care to clue me in?  This is a rating system used by ARPA and other organisations to measure the maturity of a `software process' i.e. the entire process by which software gets designed, written, tested, delivered, supported etc.  See `Managing the Software Process', by Watts S. Humphrey, Addison Wesley 1989. An excellent software engineering text. The 5 levels of software process maturity are:  1. Initial 2. Repeatable 3. Defined 4. Managed 5. Optimizing  The levels are approximately characterized as follows:  1. no statistically software process control. Have no statistical    basis for estimating how large software will be, how long it will    take to produce, how expensive it will be, or how reliable it will    be.  Most software production is at this level.  2. stable process with statistical controls, rigorous project    management; having done something once, can do it again. Projects    are planned in detail, and there is software configuration    management and quality assurance.  3. The process is defined and understood, implementation is    consistent. This includes things like software inspection, a    rigorous software testing framework, more configuration management,    and typically a `software engineering process group' within the    project.  4. Statistical information on the software is systematically gathered    and analysed, and the process is controlled on the basis of this    information. Software quality is measured and has goals.  5. Defects are prevented, the process is automated, software contracts    are effective and certified.  Nick Haines nickh@cmu.edu \"\n        ],\n        \"semantic_type\": \"\",\n        \"description\": \"\"\n      }\n    },\n    {\n      \"column\": \"subject\",\n      \"properties\": {\n        \"dtype\": \"category\",\n        \"num_unique_values\": 4,\n        \"samples\": [\n          \"talk.religion.misc\",\n          \"alt.atheism\",\n          \"comp.graphics\"\n        ],\n        \"semantic_type\": \"\",\n        \"description\": \"\"\n      }\n    }\n  ]\n}"
            }
          },
          "metadata": {}
        }
      ]
    },
    {
      "cell_type": "markdown",
      "source": [
        "## Print TFDF, uma matriz esparsa"
      ],
      "metadata": {
        "id": "al4-3rRk_zHd"
      }
    },
    {
      "cell_type": "code",
      "source": [
        "import matplotlib.pyplot as plt\n",
        "import seaborn as sns\n",
        "import numpy as np\n",
        "\n",
        "print(X_train)\n",
        "print(X_train.todense())\n",
        "\n",
        "def plot_heatmap(matriz):\n",
        "  # Create a heatmap of the sample\n",
        "  plt.figure(figsize=(10, 8))\n",
        "  sns.heatmap(matriz, cmap='viridis')\n",
        "  plt.title('Heatmap of a Sample')\n",
        "  plt.xlabel('Features')\n",
        "  plt.ylabel('Samples')\n",
        "  plt.show()\n",
        "\n",
        "plot_heatmap(X_train.todense())"
      ],
      "metadata": {
        "colab": {
          "base_uri": "https://localhost:8080/",
          "height": 1000
        },
        "id": "XqF8DV9ERz_A",
        "outputId": "b64b245a-7100-4432-9380-9aed3aaf19cc"
      },
      "execution_count": 17,
      "outputs": [
        {
          "output_type": "stream",
          "name": "stdout",
          "text": [
            "<Compressed Sparse Row sparse matrix of dtype 'float64'\n",
            "\twith 101336 stored elements and shape (2034, 5316)>\n",
            "  Coords\tValues\n",
            "  (0, 2316)\t0.11851224395036405\n",
            "  (0, 5104)\t0.09060493322674851\n",
            "  (0, 3297)\t0.1640187146150581\n",
            "  (0, 4250)\t0.23538068722772812\n",
            "  (0, 3130)\t0.13500447477897282\n",
            "  (0, 2977)\t0.1607139356404231\n",
            "  (0, 3610)\t0.17209055330659662\n",
            "  (0, 848)\t0.16231769736407936\n",
            "  (0, 135)\t0.3850264595706286\n",
            "  (0, 1939)\t0.31673746021044963\n",
            "  (0, 2143)\t0.10679134967603324\n",
            "  (0, 1393)\t0.17453193518834964\n",
            "  (0, 3671)\t0.12556367231588975\n",
            "  (0, 3428)\t0.28757207440182153\n",
            "  (0, 3672)\t0.15638874633977531\n",
            "  (0, 1578)\t0.13113345262311696\n",
            "  (0, 2730)\t0.07260241789473477\n",
            "  (0, 2514)\t0.17966867871409833\n",
            "  (0, 4625)\t0.16984469968329496\n",
            "  (0, 1828)\t0.16231769736407936\n",
            "  (0, 4224)\t0.09459053361310009\n",
            "  (0, 2972)\t0.16231769736407936\n",
            "  (0, 4253)\t0.1640187146150581\n",
            "  (0, 4832)\t0.2913746351320651\n",
            "  (0, 4205)\t0.13761642369991878\n",
            "  :\t:\n",
            "  (2032, 2732)\t0.10365013805184016\n",
            "  (2032, 4045)\t0.11140824607838973\n",
            "  (2032, 5260)\t0.09669961241567443\n",
            "  (2032, 652)\t0.10215275946697079\n",
            "  (2032, 1876)\t0.1735780570314042\n",
            "  (2032, 4545)\t0.14199105892464578\n",
            "  (2032, 4819)\t0.19679748464293056\n",
            "  (2032, 519)\t0.14199105892464578\n",
            "  (2032, 3789)\t0.1176156331322243\n",
            "  (2032, 4687)\t0.1320541235394168\n",
            "  (2032, 1030)\t0.1136928350409782\n",
            "  (2032, 3871)\t0.12066373268980868\n",
            "  (2032, 1403)\t0.18956190877008153\n",
            "  (2032, 3464)\t0.13648609155898156\n",
            "  (2032, 2695)\t0.1295151939101511\n",
            "  (2032, 2840)\t0.14199105892464578\n",
            "  (2032, 2135)\t0.11087111921004773\n",
            "  (2032, 4373)\t0.12418250538997826\n",
            "  (2032, 4429)\t0.1320541235394168\n",
            "  (2032, 3791)\t0.25271974224589394\n",
            "  (2032, 2267)\t0.1492603508705701\n",
            "  (2032, 859)\t0.15582722312832403\n",
            "  (2032, 4696)\t0.13648609155898156\n",
            "  (2032, 4911)\t0.1492603508705701\n",
            "  (2032, 3025)\t0.1381777422839194\n",
            "[[0. 0. 0. ... 0. 0. 0.]\n",
            " [0. 0. 0. ... 0. 0. 0.]\n",
            " [0. 0. 0. ... 0. 0. 0.]\n",
            " ...\n",
            " [0. 0. 0. ... 0. 0. 0.]\n",
            " [0. 0. 0. ... 0. 0. 0.]\n",
            " [0. 0. 0. ... 0. 0. 0.]]\n"
          ]
        },
        {
          "output_type": "display_data",
          "data": {
            "text/plain": [
              "<Figure size 1000x800 with 2 Axes>"
            ],
            "image/png": "[encoded data removed]"
          },
          "metadata": {}
        }
      ]
    },
    {
      "cell_type": "markdown",
      "source": [
        "## TFIDF é normalizada..."
      ],
      "metadata": {
        "id": "N4elu9G5_s68"
      }
    },
    {
      "cell_type": "code",
      "source": [
        "z = X_train.toarray()\n",
        "\n",
        "z[z != 0], np.min(z), np.max(z)"
      ],
      "metadata": {
        "colab": {
          "base_uri": "https://localhost:8080/"
        },
        "id": "p2zqfDX2Rg6P",
        "outputId": "7b094f47-e7c4-4e6b-b9ce-8cd89f2d7004"
      },
      "execution_count": 18,
      "outputs": [
        {
          "output_type": "execute_result",
          "data": {
            "text/plain": [
              "(array([0.38502646, 0.11288179, 0.10725133, ..., 0.14926035, 0.17346472,\n",
              "        0.09669961]),\n",
              " np.float64(0.0),\n",
              " np.float64(1.0))"
            ]
          },
          "metadata": {},
          "execution_count": 18
        }
      ]
    },
    {
      "cell_type": "code",
      "source": [
        "import numpy as np\n",
        "\n",
        "feature_names[np.random.choice(len(feature_names), size=20, replace=False)]"
      ],
      "metadata": {
        "colab": {
          "base_uri": "https://localhost:8080/"
        },
        "id": "VeOfRzYoaE91",
        "outputId": "2019db6b-2cb3-4fce-cd8b-a8d80e98efa0"
      },
      "execution_count": 19,
      "outputs": [
        {
          "output_type": "execute_result",
          "data": {
            "text/plain": [
              "array(['especially', 'harvard', 'formats', 'dial', 'iris', '2nd', 'pages',\n",
              "       'md', 'names', 'peaceful', 'wealth', 'sized', 'fact', 'serial',\n",
              "       'nz', 'imply', 'cults', 'noise', 'bring', 'selfish'], dtype=object)"
            ]
          },
          "metadata": {},
          "execution_count": 19
        }
      ]
    },
    {
      "cell_type": "markdown",
      "source": [
        "# Classificação"
      ],
      "metadata": {
        "id": "JSooOUlaTwyN"
      }
    },
    {
      "cell_type": "code",
      "source": [
        "from sklearn.linear_model import RidgeClassifier\n",
        "from sklearn.linear_model import LogisticRegression\n",
        "from sklearn.svm import LinearSVC\n",
        "from sklearn.linear_model import SGDClassifier\n",
        "\n",
        "# clf = RidgeClassifier(tol=1e-2, solver=\"sparse_cg\")\n",
        "clf = LogisticRegression(max_iter=10000)\n",
        "\n",
        "clf.fit(X_train, y_train)\n",
        "pred = clf.predict(X_test)"
      ],
      "metadata": {
        "id": "YvGtalaGa0A0"
      },
      "execution_count": 20,
      "outputs": []
    },
    {
      "cell_type": "code",
      "source": [
        "clf.coef_, clf.coef_.shape"
      ],
      "metadata": {
        "id": "q7xTh4G9DCxP",
        "outputId": "ec74f773-b651-4ce7-e2a9-be6c01202e47",
        "colab": {
          "base_uri": "https://localhost:8080/"
        }
      },
      "execution_count": 23,
      "outputs": [
        {
          "output_type": "execute_result",
          "data": {
            "text/plain": [
              "(array([[-0.26559988,  0.01301841, -0.17059375, ..., -0.14170582,\n",
              "         -0.11882312,  0.01381462],\n",
              "        [ 0.23299119, -0.09199039,  0.40228291, ..., -0.02451257,\n",
              "          0.26122612, -0.04586616],\n",
              "        [ 0.25120449,  0.08831534, -0.08638891, ..., -0.03700498,\n",
              "         -0.05844837,  0.06740896],\n",
              "        [-0.2185958 , -0.00934336, -0.14530025, ...,  0.20322337,\n",
              "         -0.08395463, -0.03535742]]),\n",
              " (4, 5316))"
            ]
          },
          "metadata": {},
          "execution_count": 23
        }
      ]
    },
    {
      "cell_type": "code",
      "source": [
        "from sklearn.metrics import classification_report\n",
        "\n",
        "print(classification_report(y_test, pred, target_names=target_names))"
      ],
      "metadata": {
        "colab": {
          "base_uri": "https://localhost:8080/"
        },
        "id": "-5cG52hNa1QX",
        "outputId": "437ee45e-3fec-4530-89a2-d6539ee8a1b5"
      },
      "execution_count": 21,
      "outputs": [
        {
          "output_type": "stream",
          "name": "stdout",
          "text": [
            "                    precision    recall  f1-score   support\n",
            "\n",
            "       alt.atheism       0.66      0.62      0.64       319\n",
            "     comp.graphics       0.88      0.89      0.88       389\n",
            "         sci.space       0.74      0.90      0.81       394\n",
            "talk.religion.misc       0.70      0.50      0.58       251\n",
            "\n",
            "          accuracy                           0.76      1353\n",
            "         macro avg       0.75      0.73      0.73      1353\n",
            "      weighted avg       0.75      0.76      0.75      1353\n",
            "\n"
          ]
        }
      ]
    },
    {
      "cell_type": "markdown",
      "source": [
        "# Feature Importance"
      ],
      "metadata": {
        "id": "JX-E2zbcT7Lo"
      }
    },
    {
      "cell_type": "code",
      "source": [
        "clf.coef_.shape"
      ],
      "metadata": {
        "colab": {
          "base_uri": "https://localhost:8080/"
        },
        "id": "dLWos_hWbM8k",
        "outputId": "3e7a9859-8076-496f-ae0a-cefc7842ecb5"
      },
      "execution_count": null,
      "outputs": [
        {
          "output_type": "execute_result",
          "data": {
            "text/plain": [
              "(4, 5316)"
            ]
          },
          "metadata": {},
          "execution_count": 41
        }
      ]
    },
    {
      "cell_type": "code",
      "source": [
        "import numpy as np\n",
        "import pandas as pd\n",
        "import matplotlib.pyplot as plt\n",
        "\n",
        "def plot_feature_effects():\n",
        "    # learned coefficients weighted by frequency of appearance\n",
        "    average_feature_effects = clf.coef_ * np.asarray(X_train.mean(axis=0)).ravel()\n",
        "\n",
        "    for i, label in enumerate(target_names):\n",
        "        top5 = np.argsort(average_feature_effects[i])[-5:][::-1]\n",
        "        if i == 0:\n",
        "            top = pd.DataFrame(feature_names[top5], columns=[label])\n",
        "            top_indices = top5\n",
        "        else:\n",
        "            top[label] = feature_names[top5]\n",
        "            top_indices = np.concatenate((top_indices, top5), axis=None)\n",
        "    top_indices = np.unique(top_indices)\n",
        "    predictive_words = feature_names[top_indices]\n",
        "\n",
        "    # plot feature effects\n",
        "    bar_size = 0.25\n",
        "    padding = 0.75\n",
        "    y_locs = np.arange(len(top_indices)) * (4 * bar_size + padding)\n",
        "\n",
        "    fig, ax = plt.subplots(figsize=(10, 8))\n",
        "    for i, label in enumerate(target_names):\n",
        "        ax.barh(\n",
        "            y_locs + (i - 2) * bar_size,\n",
        "            average_feature_effects[i, top_indices],\n",
        "            height=bar_size,\n",
        "            label=label,\n",
        "        )\n",
        "    ax.set(\n",
        "        yticks=y_locs,\n",
        "        yticklabels=predictive_words,\n",
        "        ylim=[\n",
        "            0 - 4 * bar_size,\n",
        "            len(top_indices) * (4 * bar_size + padding) - 4 * bar_size,\n",
        "        ],\n",
        "    )\n",
        "    ax.legend(loc=\"lower right\")\n",
        "\n",
        "    print(\"top 5 keywords per class:\")\n",
        "    print(top)\n",
        "\n",
        "    return ax\n",
        "\n",
        "\n",
        "_ = plot_feature_effects().set_title(\"Average feature effect on the original data\")"
      ],
      "metadata": {
        "colab": {
          "base_uri": "https://localhost:8080/",
          "height": 821
        },
        "id": "W5n8KrMDbAlM",
        "outputId": "58e6ea11-2d6c-4b29-fbdc-2354ff37090b"
      },
      "execution_count": null,
      "outputs": [
        {
          "output_type": "stream",
          "name": "stdout",
          "text": [
            "top 5 keywords per class:\n",
            "  alt.atheism comp.graphics sci.space talk.religion.misc\n",
            "0         don      graphics     space                god\n",
            "1      people        thanks      like              jesus\n",
            "2         god          file      nasa          christian\n",
            "3         say         image     orbit             people\n",
            "4    religion         files    launch         christians\n"
          ]
        },
        {
          "output_type": "display_data",
          "data": {
            "text/plain": [
              "<Figure size 1000x800 with 1 Axes>"
            ],
            "image/png": "[encoded data removed]"
          },
          "metadata": {}
        }
      ]
    },
    {
      "cell_type": "markdown",
      "source": [
        "# Information Gain"
      ],
      "metadata": {
        "id": "rOqaE3RcUAoW"
      }
    },
    {
      "cell_type": "code",
      "source": [
        "from sklearn.feature_selection import mutual_info_classif\n",
        "\n",
        "# Calculate mutual information gain\n",
        "mutual_info = mutual_info_classif(X_train.toarray(), y_train == target_names.index(\"alt.atheism\"), discrete_features=False, random_state=42)\n",
        "\n",
        "mi = pd.DataFrame({\n",
        "    \"feature\": feature_names,\n",
        "    \"mutual_info\": mutual_info\n",
        "})\n",
        "\n",
        "mi = mi.sort_values(\"mutual_info\", ascending=False).reset_index(drop=True)\n",
        "print(\"\\nTop features by mutual information:\")\n",
        "print(mi.head(5))"
      ],
      "metadata": {
        "colab": {
          "base_uri": "https://localhost:8080/"
        },
        "id": "-YOTieaFy3w1",
        "outputId": "01a1e2a2-7e37-42ef-e144-3262b0023e3b"
      },
      "execution_count": null,
      "outputs": [
        {
          "output_type": "stream",
          "name": "stdout",
          "text": [
            "\n",
            "Top features by mutual information:\n",
            "     feature  mutual_info\n",
            "0       demo     0.037435\n",
            "1       usaf     0.035357\n",
            "2  publishes     0.033800\n",
            "3  additions     0.031232\n",
            "4     people     0.030889\n"
          ]
        }
      ]
    },
    {
      "cell_type": "markdown",
      "source": [
        "# Exercício\n",
        "\n",
        "Em grupos, até 6 integrantes, empregue o **SHAP** https://shap.readthedocs.io/en/latest/ para avaliar a importância das features (termos) e compare os resultados com os obtidos antes. No início o notebook apresente um referencial teórico com o exemplo de aplicação do SHAP a este caso."
      ],
      "metadata": {
        "id": "fTDrhu3NUE_Y"
      }
    }
  ]
}